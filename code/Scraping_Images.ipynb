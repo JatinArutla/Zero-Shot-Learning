{
  "nbformat": 4,
  "nbformat_minor": 0,
  "metadata": {
    "colab": {
      "name": "Scraping Images.ipynb",
      "provenance": []
    },
    "kernelspec": {
      "name": "python3",
      "display_name": "Python 3"
    },
    "language_info": {
      "name": "python"
    }
  },
  "cells": [
    {
      "cell_type": "code",
      "metadata": {
        "id": "rfTOfjezD8WG"
      },
      "source": [
        "from fastai.vision import *"
      ],
      "execution_count": null,
      "outputs": []
    },
    {
      "cell_type": "code",
      "metadata": {
        "id": "nv4o9hpVD90w"
      },
      "source": [
        "folder = 'paneer'\n",
        "file = 'paneer.csv'"
      ],
      "execution_count": null,
      "outputs": []
    },
    {
      "cell_type": "code",
      "metadata": {
        "id": "9W_9kBAhElqn"
      },
      "source": [
        "path = Path('paneer/')\n",
        "dest = path/folder\n",
        "dest.mkdir(parents=True, exist_ok=True)"
      ],
      "execution_count": null,
      "outputs": []
    },
    {
      "cell_type": "code",
      "metadata": {
        "colab": {
          "base_uri": "https://localhost:8080/"
        },
        "id": "JdP0Ee4BEu7I",
        "outputId": "1972f52d-421e-4e00-da34-00bd909707f0"
      },
      "source": [
        "path.ls()"
      ],
      "execution_count": null,
      "outputs": [
        {
          "output_type": "execute_result",
          "data": {
            "text/plain": [
              "[PosixPath('ship/ship')]"
            ]
          },
          "metadata": {
            "tags": []
          },
          "execution_count": 20
        }
      ]
    },
    {
      "cell_type": "code",
      "metadata": {
        "id": "AHiH2vbDEzFG"
      },
      "source": [
        " classes = ['paneer', 'mixed vegetable', 'chicken']"
      ],
      "execution_count": null,
      "outputs": []
    },
    {
      "cell_type": "code",
      "metadata": {
        "colab": {
          "base_uri": "https://localhost:8080/",
          "height": 17
        },
        "id": "uxJamJeUE4K-",
        "outputId": "6724920f-78ef-4596-80cb-9d511c02392c"
      },
      "source": [
        "download_images(path/folder/file, dest, max_pics=400)"
      ],
      "execution_count": null,
      "outputs": [
        {
          "output_type": "display_data",
          "data": {
            "text/html": [
              ""
            ],
            "text/plain": [
              "<IPython.core.display.HTML object>"
            ]
          },
          "metadata": {
            "tags": []
          }
        }
      ]
    },
    {
      "cell_type": "code",
      "metadata": {
        "colab": {
          "base_uri": "https://localhost:8080/",
          "height": 35
        },
        "id": "yWx2lvCBE5eW",
        "outputId": "7d5daa18-d65e-474c-c4d3-b9fffbecebc9"
      },
      "source": [
        "for c in classes:\n",
        "    print(c)\n",
        "    verify_images('/content/data/paneer/', delete=True, max_size=500)"
      ],
      "execution_count": null,
      "outputs": [
        {
          "output_type": "stream",
          "text": [
            "roti\n"
          ],
          "name": "stdout"
        },
        {
          "output_type": "display_data",
          "data": {
            "text/html": [
              ""
            ],
            "text/plain": [
              "<IPython.core.display.HTML object>"
            ]
          },
          "metadata": {
            "tags": []
          }
        }
      ]
    },
    {
      "cell_type": "code",
      "metadata": {
        "colab": {
          "base_uri": "https://localhost:8080/"
        },
        "id": "0aiKEhSkGDN3",
        "outputId": "e1c893cd-6bd8-420a-ee3c-e2b5a14a3fef"
      },
      "source": [
        "!zip -r /content/file.zip /content/paneer/paneer"
      ],
      "execution_count": null,
      "outputs": [
        {
          "output_type": "stream",
          "text": [
            "  adding: content/ship/ship/ (stored 0%)\n",
            "  adding: content/ship/ship/00000157.jpg (deflated 0%)\n",
            "  adding: content/ship/ship/00000109.jpg (deflated 1%)\n",
            "  adding: content/ship/ship/00000101.jpg (deflated 0%)\n",
            "  adding: content/ship/ship/00000010.jpg (deflated 0%)\n",
            "  adding: content/ship/ship/00000384.jpg (deflated 0%)\n",
            "  adding: content/ship/ship/00000226.jpg (deflated 0%)\n",
            "  adding: content/ship/ship/00000295.jpg (deflated 1%)\n",
            "  adding: content/ship/ship/00000116.jpg (deflated 0%)\n",
            "  adding: content/ship/ship/00000146.jpg (deflated 0%)\n",
            "  adding: content/ship/ship/00000213.jpg (deflated 0%)\n",
            "  adding: content/ship/ship/00000266.jpg (deflated 1%)\n",
            "  adding: content/ship/ship/00000398.jpg (deflated 0%)\n",
            "  adding: content/ship/ship/ship.csv (deflated 71%)\n",
            "  adding: content/ship/ship/00000289.jpg (deflated 0%)\n",
            "  adding: content/ship/ship/00000224.jpg (deflated 1%)\n",
            "  adding: content/ship/ship/00000211.jpg (deflated 1%)\n",
            "  adding: content/ship/ship/00000392.jpg (deflated 1%)\n",
            "  adding: content/ship/ship/00000280.jpg (deflated 0%)\n",
            "  adding: content/ship/ship/00000176.jpg (deflated 0%)\n",
            "  adding: content/ship/ship/00000179.jpg (deflated 0%)\n",
            "  adding: content/ship/ship/00000144.jpg (deflated 1%)\n",
            "  adding: content/ship/ship/00000148.jpg (deflated 0%)\n",
            "  adding: content/ship/ship/00000279.jpg (deflated 0%)\n",
            "  adding: content/ship/ship/00000322.jpg (deflated 2%)\n",
            "  adding: content/ship/ship/00000032.jpg (deflated 0%)\n",
            "  adding: content/ship/ship/00000038.jpg (deflated 0%)\n",
            "  adding: content/ship/ship/00000243.jpg (deflated 1%)\n",
            "  adding: content/ship/ship/00000381.jpg (deflated 1%)\n",
            "  adding: content/ship/ship/00000299.jpg (deflated 0%)\n",
            "  adding: content/ship/ship/00000141.jpg (deflated 0%)\n",
            "  adding: content/ship/ship/00000028.jpg (deflated 2%)\n",
            "  adding: content/ship/ship/00000133.jpg (deflated 1%)\n",
            "  adding: content/ship/ship/00000052.jpg (deflated 1%)\n",
            "  adding: content/ship/ship/00000395.jpg (deflated 0%)\n",
            "  adding: content/ship/ship/00000234.jpg (deflated 0%)\n",
            "  adding: content/ship/ship/00000363.jpg (deflated 0%)\n",
            "  adding: content/ship/ship/00000373.jpg (deflated 0%)\n",
            "  adding: content/ship/ship/00000185.jpg (deflated 1%)\n",
            "  adding: content/ship/ship/00000053.jpg (deflated 0%)\n",
            "  adding: content/ship/ship/00000099.jpg (deflated 0%)\n",
            "  adding: content/ship/ship/00000044.jpg (deflated 0%)\n",
            "  adding: content/ship/ship/00000237.jpg (deflated 1%)\n",
            "  adding: content/ship/ship/00000083.jpg (deflated 0%)\n",
            "  adding: content/ship/ship/00000361.jpg (deflated 1%)\n",
            "  adding: content/ship/ship/00000060.jpg (deflated 0%)\n",
            "  adding: content/ship/ship/00000365.jpg (deflated 0%)\n",
            "  adding: content/ship/ship/00000360.jpg (deflated 0%)\n",
            "  adding: content/ship/ship/00000076.jpg (deflated 0%)\n",
            "  adding: content/ship/ship/00000069.jpg (deflated 0%)\n",
            "  adding: content/ship/ship/00000012.jpg (deflated 1%)\n",
            "  adding: content/ship/ship/00000005.jpg (deflated 0%)\n",
            "  adding: content/ship/ship/00000254.jpg (deflated 0%)\n",
            "  adding: content/ship/ship/00000250.jpg (deflated 1%)\n",
            "  adding: content/ship/ship/00000197.jpg (deflated 0%)\n",
            "  adding: content/ship/ship/00000015.jpg (deflated 0%)\n",
            "  adding: content/ship/ship/00000208.jpg (deflated 0%)\n",
            "  adding: content/ship/ship/00000375.jpg (deflated 0%)\n",
            "  adding: content/ship/ship/00000190.jpg (deflated 0%)\n",
            "  adding: content/ship/ship/00000324.jpg (deflated 0%)\n",
            "  adding: content/ship/ship/00000196.jpg (deflated 1%)\n",
            "  adding: content/ship/ship/00000377.jpg (deflated 1%)\n",
            "  adding: content/ship/ship/00000329.jpg (deflated 1%)\n",
            "  adding: content/ship/ship/00000063.jpg (deflated 1%)\n",
            "  adding: content/ship/ship/00000162.jpg (deflated 0%)\n",
            "  adding: content/ship/ship/00000089.jpg (deflated 0%)\n",
            "  adding: content/ship/ship/00000092.jpg (deflated 1%)\n",
            "  adding: content/ship/ship/00000210.jpg (deflated 1%)\n",
            "  adding: content/ship/ship/00000314.jpg (deflated 0%)\n",
            "  adding: content/ship/ship/00000074.jpg (deflated 0%)\n",
            "  adding: content/ship/ship/00000225.jpg (deflated 0%)\n",
            "  adding: content/ship/ship/00000379.jpg (deflated 1%)\n",
            "  adding: content/ship/ship/00000315.jpg (deflated 1%)\n",
            "  adding: content/ship/ship/00000002.jpg (deflated 0%)\n",
            "  adding: content/ship/ship/00000169.jpg (deflated 0%)\n",
            "  adding: content/ship/ship/00000154.jpg (deflated 1%)\n",
            "  adding: content/ship/ship/00000298.jpg (deflated 2%)\n",
            "  adding: content/ship/ship/00000110.jpg (deflated 2%)\n",
            "  adding: content/ship/ship/00000312.jpg (deflated 0%)\n",
            "  adding: content/ship/ship/00000153.jpg (deflated 0%)\n",
            "  adding: content/ship/ship/00000122.jpg (deflated 0%)\n",
            "  adding: content/ship/ship/00000233.jpg (deflated 0%)\n",
            "  adding: content/ship/ship/00000078.jpg (deflated 1%)\n",
            "  adding: content/ship/ship/00000062.jpg (deflated 0%)\n",
            "  adding: content/ship/ship/00000156.jpg (deflated 1%)\n",
            "  adding: content/ship/ship/00000037.jpg (deflated 1%)\n",
            "  adding: content/ship/ship/00000335.jpg (stored 0%)\n",
            "  adding: content/ship/ship/00000189.jpg (deflated 5%)\n",
            "  adding: content/ship/ship/00000370.jpg (deflated 1%)\n",
            "  adding: content/ship/ship/00000168.jpg (deflated 1%)\n",
            "  adding: content/ship/ship/00000018.jpg (deflated 0%)\n",
            "  adding: content/ship/ship/00000364.jpg (deflated 0%)\n",
            "  adding: content/ship/ship/00000017.jpg (deflated 1%)\n",
            "  adding: content/ship/ship/00000007.jpg (deflated 1%)\n",
            "  adding: content/ship/ship/00000366.jpg (deflated 0%)\n",
            "  adding: content/ship/ship/00000240.jpg (deflated 0%)\n",
            "  adding: content/ship/ship/00000347.jpg (deflated 0%)\n",
            "  adding: content/ship/ship/00000303.jpg (deflated 0%)\n",
            "  adding: content/ship/ship/00000268.jpg (deflated 0%)\n",
            "  adding: content/ship/ship/00000265.jpg (deflated 0%)\n",
            "  adding: content/ship/ship/00000232.jpg (deflated 0%)\n",
            "  adding: content/ship/ship/00000120.jpg (deflated 0%)\n",
            "  adding: content/ship/ship/00000321.jpg (deflated 0%)\n",
            "  adding: content/ship/ship/00000090.jpg (deflated 1%)\n",
            "  adding: content/ship/ship/00000300.jpg (deflated 0%)\n",
            "  adding: content/ship/ship/00000040.jpg (deflated 1%)\n",
            "  adding: content/ship/ship/00000175.jpg (deflated 0%)\n",
            "  adding: content/ship/ship/00000008.jpg (deflated 0%)\n",
            "  adding: content/ship/ship/00000001.jpg (deflated 0%)\n",
            "  adding: content/ship/ship/00000340.jpg (deflated 0%)\n",
            "  adding: content/ship/ship/00000194.jpg (deflated 0%)\n",
            "  adding: content/ship/ship/00000236.jpg (deflated 0%)\n",
            "  adding: content/ship/ship/00000326.jpg (deflated 0%)\n",
            "  adding: content/ship/ship/00000305.jpg (deflated 6%)\n",
            "  adding: content/ship/ship/00000346.jpg (deflated 1%)\n",
            "  adding: content/ship/ship/00000023.jpg (deflated 1%)\n",
            "  adding: content/ship/ship/00000075.jpg (deflated 1%)\n",
            "  adding: content/ship/ship/00000167.jpg (deflated 0%)\n",
            "  adding: content/ship/ship/00000357.jpg (deflated 0%)\n",
            "  adding: content/ship/ship/00000072.jpg (deflated 0%)\n",
            "  adding: content/ship/ship/00000278.jpg (deflated 1%)\n",
            "  adding: content/ship/ship/00000096.jpg (deflated 1%)\n",
            "  adding: content/ship/ship/00000311.jpg (deflated 0%)\n",
            "  adding: content/ship/ship/00000245.jpg (deflated 0%)\n",
            "  adding: content/ship/ship/00000139.jpg (deflated 0%)\n",
            "  adding: content/ship/ship/00000287.jpg (deflated 0%)\n",
            "  adding: content/ship/ship/00000138.jpg (deflated 0%)\n",
            "  adding: content/ship/ship/00000140.jpg (deflated 0%)\n",
            "  adding: content/ship/ship/00000336.jpg (deflated 0%)\n",
            "  adding: content/ship/ship/00000223.jpg (deflated 0%)\n",
            "  adding: content/ship/ship/00000073.jpg (deflated 1%)\n",
            "  adding: content/ship/ship/00000241.jpg (deflated 0%)\n",
            "  adding: content/ship/ship/00000163.jpg (deflated 0%)\n",
            "  adding: content/ship/ship/00000184.jpg (deflated 0%)\n",
            "  adding: content/ship/ship/00000033.jpg (deflated 1%)\n",
            "  adding: content/ship/ship/00000296.jpg (deflated 1%)\n",
            "  adding: content/ship/ship/00000202.jpg (deflated 1%)\n",
            "  adding: content/ship/ship/00000294.jpg (deflated 0%)\n",
            "  adding: content/ship/ship/00000013.jpg (deflated 1%)\n",
            "  adding: content/ship/ship/00000051.jpg (deflated 0%)\n",
            "  adding: content/ship/ship/00000220.jpg (deflated 0%)\n",
            "  adding: content/ship/ship/00000174.jpg (deflated 1%)\n",
            "  adding: content/ship/ship/00000084.jpg (deflated 1%)\n",
            "  adding: content/ship/ship/00000359.jpg (deflated 2%)\n",
            "  adding: content/ship/ship/00000323.jpg (deflated 1%)\n",
            "  adding: content/ship/ship/00000134.jpg (deflated 0%)\n",
            "  adding: content/ship/ship/00000212.jpg (deflated 0%)\n",
            "  adding: content/ship/ship/00000106.jpg (deflated 0%)\n",
            "  adding: content/ship/ship/00000286.jpg (deflated 0%)\n",
            "  adding: content/ship/ship/00000071.jpg (deflated 0%)\n",
            "  adding: content/ship/ship/00000319.jpg (deflated 1%)\n",
            "  adding: content/ship/ship/00000126.jpg (deflated 1%)\n",
            "  adding: content/ship/ship/00000108.jpg (deflated 0%)\n",
            "  adding: content/ship/ship/00000127.jpg (deflated 0%)\n",
            "  adding: content/ship/ship/00000246.jpg (deflated 0%)\n",
            "  adding: content/ship/ship/00000118.jpg (deflated 2%)\n",
            "  adding: content/ship/ship/00000027.jpg (deflated 1%)\n",
            "  adding: content/ship/ship/00000341.jpg (deflated 1%)\n",
            "  adding: content/ship/ship/00000022.jpg (deflated 0%)\n",
            "  adding: content/ship/ship/00000058.jpg (deflated 1%)\n",
            "  adding: content/ship/ship/00000215.jpg (deflated 1%)\n",
            "  adding: content/ship/ship/00000143.jpg (deflated 1%)\n",
            "  adding: content/ship/ship/00000317.jpg (deflated 2%)\n",
            "  adding: content/ship/ship/00000229.jpg (deflated 1%)\n",
            "  adding: content/ship/ship/00000158.jpg (deflated 1%)\n",
            "  adding: content/ship/ship/00000142.jpg (deflated 3%)\n",
            "  adding: content/ship/ship/00000029.jpg (deflated 0%)\n",
            "  adding: content/ship/ship/00000362.jpg (deflated 0%)\n",
            "  adding: content/ship/ship/00000337.jpg (deflated 0%)\n",
            "  adding: content/ship/ship/00000161.jpg (deflated 0%)\n",
            "  adding: content/ship/ship/00000228.jpg (deflated 0%)\n",
            "  adding: content/ship/ship/00000192.jpg (deflated 0%)\n",
            "  adding: content/ship/ship/00000389.jpg (deflated 1%)\n",
            "  adding: content/ship/ship/00000354.jpg (deflated 1%)\n",
            "  adding: content/ship/ship/00000045.jpg (deflated 0%)\n",
            "  adding: content/ship/ship/00000151.jpg (deflated 0%)\n",
            "  adding: content/ship/ship/00000263.jpg (deflated 0%)\n",
            "  adding: content/ship/ship/00000065.jpg (deflated 1%)\n",
            "  adding: content/ship/ship/00000187.jpg (deflated 1%)\n",
            "  adding: content/ship/ship/00000290.jpg (deflated 0%)\n",
            "  adding: content/ship/ship/00000020.jpg (deflated 0%)\n",
            "  adding: content/ship/ship/00000325.jpg (deflated 0%)\n",
            "  adding: content/ship/ship/00000030.jpg (deflated 2%)\n",
            "  adding: content/ship/ship/00000284.jpg (deflated 4%)\n",
            "  adding: content/ship/ship/00000130.jpg (deflated 0%)\n",
            "  adding: content/ship/ship/00000293.jpg (deflated 1%)\n",
            "  adding: content/ship/ship/00000308.jpg (deflated 0%)\n",
            "  adding: content/ship/ship/00000334.jpg (deflated 0%)\n",
            "  adding: content/ship/ship/00000085.jpg (deflated 2%)\n",
            "  adding: content/ship/ship/00000178.jpg (deflated 0%)\n",
            "  adding: content/ship/ship/00000332.jpg (deflated 0%)\n",
            "  adding: content/ship/ship/00000272.jpg (deflated 0%)\n",
            "  adding: content/ship/ship/00000356.jpg (deflated 0%)\n",
            "  adding: content/ship/ship/00000288.jpg (deflated 0%)\n",
            "  adding: content/ship/ship/00000251.jpg (deflated 0%)\n",
            "  adding: content/ship/ship/00000388.jpg (deflated 11%)\n",
            "  adding: content/ship/ship/00000123.jpg (deflated 1%)\n",
            "  adding: content/ship/ship/00000112.jpg (deflated 0%)\n",
            "  adding: content/ship/ship/00000019.jpg (deflated 0%)\n",
            "  adding: content/ship/ship/00000124.jpg (deflated 0%)\n",
            "  adding: content/ship/ship/00000253.jpg (deflated 0%)\n",
            "  adding: content/ship/ship/00000230.jpg (deflated 1%)\n",
            "  adding: content/ship/ship/00000270.jpg (deflated 2%)\n",
            "  adding: content/ship/ship/00000172.jpg (deflated 0%)\n",
            "  adding: content/ship/ship/00000047.jpg (deflated 1%)\n",
            "  adding: content/ship/ship/00000267.jpg (deflated 1%)\n",
            "  adding: content/ship/ship/00000367.jpg (deflated 3%)\n",
            "  adding: content/ship/ship/00000081.jpg (deflated 0%)\n",
            "  adding: content/ship/ship/00000209.jpg (deflated 0%)\n",
            "  adding: content/ship/ship/00000264.jpg (deflated 1%)\n",
            "  adding: content/ship/ship/00000235.jpg (deflated 0%)\n",
            "  adding: content/ship/ship/00000349.jpg (deflated 0%)\n",
            "  adding: content/ship/ship/00000262.jpg (deflated 1%)\n",
            "  adding: content/ship/ship/00000195.jpg (deflated 0%)\n",
            "  adding: content/ship/ship/00000145.jpg (deflated 1%)\n",
            "  adding: content/ship/ship/00000177.jpg (deflated 1%)\n",
            "  adding: content/ship/ship/00000259.jpg (deflated 2%)\n",
            "  adding: content/ship/ship/00000369.jpg (deflated 0%)\n",
            "  adding: content/ship/ship/00000274.jpg (deflated 0%)\n",
            "  adding: content/ship/ship/00000331.jpg (deflated 0%)\n",
            "  adding: content/ship/ship/00000098.jpg (deflated 0%)\n",
            "  adding: content/ship/ship/00000026.jpg (deflated 0%)\n",
            "  adding: content/ship/ship/00000397.jpg (deflated 1%)\n",
            "  adding: content/ship/ship/00000057.jpg (deflated 0%)\n",
            "  adding: content/ship/ship/00000207.jpg (deflated 0%)\n",
            "  adding: content/ship/ship/00000014.jpg (deflated 1%)\n",
            "  adding: content/ship/ship/00000218.jpg (deflated 1%)\n",
            "  adding: content/ship/ship/00000206.jpg (deflated 0%)\n",
            "  adding: content/ship/ship/00000396.jpg (deflated 0%)\n",
            "  adding: content/ship/ship/00000318.jpg (deflated 0%)\n",
            "  adding: content/ship/ship/00000119.jpg (deflated 0%)\n",
            "  adding: content/ship/ship/00000048.jpg (deflated 0%)\n",
            "  adding: content/ship/ship/00000079.jpg (deflated 1%)\n",
            "  adding: content/ship/ship/00000024.jpg (deflated 0%)\n",
            "  adding: content/ship/ship/00000201.jpg (deflated 0%)\n",
            "  adding: content/ship/ship/00000173.jpg (deflated 0%)\n",
            "  adding: content/ship/ship/00000306.jpg (deflated 0%)\n",
            "  adding: content/ship/ship/00000387.jpg (deflated 0%)\n",
            "  adding: content/ship/ship/00000107.jpg (deflated 1%)\n",
            "  adding: content/ship/ship/00000132.jpg (deflated 0%)\n",
            "  adding: content/ship/ship/00000276.jpg (deflated 0%)\n",
            "  adding: content/ship/ship/00000170.jpg (deflated 0%)\n",
            "  adding: content/ship/ship/00000231.jpg (deflated 1%)\n",
            "  adding: content/ship/ship/00000097.jpg (deflated 0%)\n",
            "  adding: content/ship/ship/00000111.jpg (deflated 0%)\n",
            "  adding: content/ship/ship/00000011.jpg (deflated 1%)\n",
            "  adding: content/ship/ship/00000042.jpg (deflated 0%)\n",
            "  adding: content/ship/ship/00000382.jpg (stored 0%)\n",
            "  adding: content/ship/ship/00000339.jpg (deflated 0%)\n",
            "  adding: content/ship/ship/00000115.jpg (deflated 1%)\n",
            "  adding: content/ship/ship/00000061.jpg (deflated 3%)\n",
            "  adding: content/ship/ship/00000009.jpg (deflated 1%)\n",
            "  adding: content/ship/ship/00000050.jpg (deflated 2%)\n",
            "  adding: content/ship/ship/00000080.jpg (deflated 1%)\n",
            "  adding: content/ship/ship/00000003.jpg (deflated 1%)\n",
            "  adding: content/ship/ship/00000328.jpg (deflated 0%)\n",
            "  adding: content/ship/ship/00000070.jpg (deflated 0%)\n",
            "  adding: content/ship/ship/00000049.jpg (deflated 0%)\n",
            "  adding: content/ship/ship/00000041.jpg (deflated 1%)\n",
            "  adding: content/ship/ship/00000304.jpg (deflated 0%)\n",
            "  adding: content/ship/ship/00000094.jpg (deflated 0%)\n",
            "  adding: content/ship/ship/00000203.jpg (deflated 2%)\n",
            "  adding: content/ship/ship/00000244.jpg (deflated 0%)\n",
            "  adding: content/ship/ship/00000031.jpg (deflated 0%)\n",
            "  adding: content/ship/ship/00000105.jpg (deflated 1%)\n",
            "  adding: content/ship/ship/00000025.jpg (deflated 1%)\n",
            "  adding: content/ship/ship/00000164.jpg (deflated 0%)\n",
            "  adding: content/ship/ship/00000291.jpg (deflated 1%)\n",
            "  adding: content/ship/ship/00000380.jpg (deflated 1%)\n",
            "  adding: content/ship/ship/00000054.jpg (deflated 1%)\n",
            "  adding: content/ship/ship/00000064.jpg (deflated 0%)\n",
            "  adding: content/ship/ship/00000368.jpg (deflated 1%)\n",
            "  adding: content/ship/ship/00000205.jpg (deflated 1%)\n",
            "  adding: content/ship/ship/00000327.jpg (deflated 0%)\n",
            "  adding: content/ship/ship/00000374.jpg (deflated 6%)\n",
            "  adding: content/ship/ship/00000102.jpg (deflated 0%)\n",
            "  adding: content/ship/ship/00000227.jpg (deflated 1%)\n",
            "  adding: content/ship/ship/00000255.jpg (deflated 2%)\n",
            "  adding: content/ship/ship/00000249.jpg (deflated 0%)\n",
            "  adding: content/ship/ship/00000219.jpg (deflated 1%)\n",
            "  adding: content/ship/ship/00000343.jpg (deflated 1%)\n",
            "  adding: content/ship/ship/00000316.jpg (deflated 0%)\n",
            "  adding: content/ship/ship/00000330.jpg (deflated 0%)\n",
            "  adding: content/ship/ship/00000077.jpg (deflated 1%)\n",
            "  adding: content/ship/ship/00000113.jpg (deflated 0%)\n",
            "  adding: content/ship/ship/00000093.jpg (deflated 0%)\n",
            "  adding: content/ship/ship/00000256.jpg (deflated 0%)\n",
            "  adding: content/ship/ship/00000313.jpg (deflated 0%)\n",
            "  adding: content/ship/ship/00000165.jpg (deflated 1%)\n",
            "  adding: content/ship/ship/00000214.jpg (deflated 0%)\n",
            "  adding: content/ship/ship/00000186.jpg (deflated 0%)\n",
            "  adding: content/ship/ship/00000103.jpg (deflated 0%)\n",
            "  adding: content/ship/ship/00000180.jpg (deflated 9%)\n",
            "  adding: content/ship/ship/00000348.jpg (deflated 1%)\n",
            "  adding: content/ship/ship/00000114.jpg (deflated 0%)\n",
            "  adding: content/ship/ship/00000135.jpg (deflated 1%)\n",
            "  adding: content/ship/ship/00000271.jpg (deflated 0%)\n",
            "  adding: content/ship/ship/00000055.jpg (deflated 1%)\n",
            "  adding: content/ship/ship/00000378.jpg (deflated 1%)\n",
            "  adding: content/ship/ship/00000131.jpg (deflated 1%)\n",
            "  adding: content/ship/ship/00000204.jpg (deflated 0%)\n",
            "  adding: content/ship/ship/00000217.jpg (deflated 0%)\n",
            "  adding: content/ship/ship/00000252.jpg (deflated 1%)\n",
            "  adding: content/ship/ship/00000238.jpg (deflated 0%)\n",
            "  adding: content/ship/ship/00000383.jpg (deflated 1%)\n",
            "  adding: content/ship/ship/00000160.jpg (deflated 2%)\n",
            "  adding: content/ship/ship/00000129.jpg (deflated 1%)\n",
            "  adding: content/ship/ship/00000285.jpg (deflated 1%)\n",
            "  adding: content/ship/ship/00000006.jpg (deflated 0%)\n",
            "  adding: content/ship/ship/00000067.jpg (deflated 1%)\n",
            "  adding: content/ship/ship/00000066.jpg (deflated 0%)\n",
            "  adding: content/ship/ship/00000171.jpg (deflated 0%)\n",
            "  adding: content/ship/ship/00000068.jpg (deflated 1%)\n",
            "  adding: content/ship/ship/00000137.jpg (deflated 0%)\n",
            "  adding: content/ship/ship/00000282.jpg (deflated 0%)\n",
            "  adding: content/ship/ship/00000258.jpg (deflated 1%)\n",
            "  adding: content/ship/ship/00000100.jpg (deflated 0%)\n",
            "  adding: content/ship/ship/00000391.jpg (deflated 1%)\n",
            "  adding: content/ship/ship/00000371.jpg (deflated 0%)\n",
            "  adding: content/ship/ship/00000320.jpg (deflated 0%)\n",
            "  adding: content/ship/ship/00000358.jpg (deflated 0%)\n",
            "  adding: content/ship/ship/00000117.jpg (deflated 0%)\n",
            "  adding: content/ship/ship/00000059.jpg (deflated 2%)\n",
            "  adding: content/ship/ship/00000147.jpg (deflated 1%)\n",
            "  adding: content/ship/ship/00000046.jpg (deflated 1%)\n",
            "  adding: content/ship/ship/00000095.jpg (deflated 0%)\n",
            "  adding: content/ship/ship/00000191.jpg (deflated 0%)\n",
            "  adding: content/ship/ship/00000242.jpg (deflated 0%)\n",
            "  adding: content/ship/ship/00000297.jpg (deflated 1%)\n",
            "  adding: content/ship/ship/00000394.jpg (deflated 0%)\n",
            "  adding: content/ship/ship/00000198.jpg (deflated 1%)\n",
            "  adding: content/ship/ship/00000352.jpg (deflated 0%)\n",
            "  adding: content/ship/ship/00000082.jpg (deflated 1%)\n",
            "  adding: content/ship/ship/00000390.jpg (deflated 0%)\n",
            "  adding: content/ship/ship/00000021.jpg (deflated 1%)\n",
            "  adding: content/ship/ship/00000183.jpg (deflated 0%)\n",
            "  adding: content/ship/ship/00000155.jpg (deflated 0%)\n",
            "  adding: content/ship/ship/00000182.jpg (deflated 0%)\n",
            "  adding: content/ship/ship/00000342.jpg (stored 0%)\n",
            "  adding: content/ship/ship/00000399.jpg (deflated 0%)\n",
            "  adding: content/ship/ship/00000193.jpg (deflated 0%)\n",
            "  adding: content/ship/ship/00000004.jpg (deflated 0%)\n",
            "  adding: content/ship/ship/00000260.jpg (deflated 2%)\n",
            "  adding: content/ship/ship/00000277.jpg (deflated 0%)\n",
            "  adding: content/ship/ship/00000159.jpg (deflated 1%)\n",
            "  adding: content/ship/ship/00000166.jpg (deflated 1%)\n",
            "  adding: content/ship/ship/00000088.jpg (deflated 0%)\n",
            "  adding: content/ship/ship/00000372.jpg (deflated 0%)\n",
            "  adding: content/ship/ship/00000222.jpg (deflated 0%)\n",
            "  adding: content/ship/ship/00000247.jpg (deflated 1%)\n",
            "  adding: content/ship/ship/00000188.jpg (deflated 1%)\n",
            "  adding: content/ship/ship/00000275.jpg (deflated 1%)\n",
            "  adding: content/ship/ship/00000292.jpg (deflated 0%)\n",
            "  adding: content/ship/ship/00000043.jpg (deflated 0%)\n",
            "  adding: content/ship/ship/00000257.jpg (deflated 1%)\n",
            "  adding: content/ship/ship/00000283.jpg (deflated 1%)\n",
            "  adding: content/ship/ship/00000302.jpg (deflated 0%)\n",
            "  adding: content/ship/ship/00000309.jpg (deflated 1%)\n",
            "  adding: content/ship/ship/00000333.jpg (deflated 0%)\n",
            "  adding: content/ship/ship/00000121.jpg (deflated 1%)\n",
            "  adding: content/ship/ship/00000128.jpg (deflated 0%)\n",
            "  adding: content/ship/ship/00000351.jpg (deflated 1%)\n",
            "  adding: content/ship/ship/00000239.jpg (deflated 0%)\n",
            "  adding: content/ship/ship/00000338.jpg (deflated 1%)\n",
            "  adding: content/ship/ship/00000000.jpg (deflated 0%)\n",
            "  adding: content/ship/ship/00000393.jpg (deflated 0%)\n",
            "  adding: content/ship/ship/00000350.jpg (deflated 1%)\n",
            "  adding: content/ship/ship/00000136.jpg (deflated 0%)\n",
            "  adding: content/ship/ship/00000269.jpg (deflated 1%)\n",
            "  adding: content/ship/ship/00000149.jpg (deflated 1%)\n",
            "  adding: content/ship/ship/00000307.jpg (deflated 4%)\n",
            "  adding: content/ship/ship/00000152.jpg (deflated 3%)\n",
            "  adding: content/ship/ship/00000039.jpg (deflated 0%)\n",
            "  adding: content/ship/ship/00000386.jpg (deflated 0%)\n",
            "  adding: content/ship/ship/00000376.jpg (deflated 0%)\n",
            "  adding: content/ship/ship/00000036.jpg (deflated 0%)\n",
            "  adding: content/ship/ship/00000221.jpg (deflated 0%)\n",
            "  adding: content/ship/ship/00000016.jpg (deflated 1%)\n",
            "  adding: content/ship/ship/00000248.jpg (deflated 0%)\n",
            "  adding: content/ship/ship/00000281.jpg (deflated 0%)\n",
            "  adding: content/ship/ship/00000200.jpg (deflated 0%)\n",
            "  adding: content/ship/ship/00000181.jpg (deflated 0%)\n",
            "  adding: content/ship/ship/00000273.jpg (deflated 0%)\n",
            "  adding: content/ship/ship/00000087.jpg (deflated 14%)\n",
            "  adding: content/ship/ship/00000091.jpg (deflated 0%)\n",
            "  adding: content/ship/ship/00000353.jpg (deflated 1%)\n",
            "  adding: content/ship/ship/00000125.jpg (deflated 1%)\n",
            "  adding: content/ship/ship/00000301.jpg (deflated 1%)\n",
            "  adding: content/ship/ship/00000385.jpg (deflated 0%)\n",
            "  adding: content/ship/ship/00000310.jpg (deflated 0%)\n",
            "  adding: content/ship/ship/00000216.jpg (deflated 1%)\n",
            "  adding: content/ship/ship/00000344.jpg (deflated 0%)\n",
            "  adding: content/ship/ship/00000199.jpg (deflated 0%)\n",
            "  adding: content/ship/ship/00000355.jpg (deflated 1%)\n",
            "  adding: content/ship/ship/00000086.jpg (deflated 0%)\n",
            "  adding: content/ship/ship/00000034.jpg (deflated 0%)\n",
            "  adding: content/ship/ship/00000035.jpg (deflated 0%)\n",
            "  adding: content/ship/ship/00000150.jpg (deflated 0%)\n",
            "  adding: content/ship/ship/00000261.jpg (deflated 1%)\n",
            "  adding: content/ship/ship/00000345.jpg (deflated 2%)\n",
            "  adding: content/ship/ship/00000104.jpg (deflated 0%)\n",
            "  adding: content/ship/ship/00000056.jpg (deflated 0%)\n"
          ],
          "name": "stdout"
        }
      ]
    },
    {
      "cell_type": "code",
      "metadata": {
        "colab": {
          "base_uri": "https://localhost:8080/",
          "height": 35
        },
        "id": "WBEu894xGxjA",
        "outputId": "e0deb99e-112c-4180-bf9d-565dcfa4a5bf"
      },
      "source": [
        "from google.colab import files\n",
        "files.download(\"/content/file.zip\")"
      ],
      "execution_count": null,
      "outputs": [
        {
          "output_type": "display_data",
          "data": {
            "application/javascript": [
              "\n",
              "    async function download(id, filename, size) {\n",
              "      if (!google.colab.kernel.accessAllowed) {\n",
              "        return;\n",
              "      }\n",
              "      const div = document.createElement('div');\n",
              "      const label = document.createElement('label');\n",
              "      label.textContent = `Downloading \"${filename}\": `;\n",
              "      div.appendChild(label);\n",
              "      const progress = document.createElement('progress');\n",
              "      progress.max = size;\n",
              "      div.appendChild(progress);\n",
              "      document.body.appendChild(div);\n",
              "\n",
              "      const buffers = [];\n",
              "      let downloaded = 0;\n",
              "\n",
              "      const channel = await google.colab.kernel.comms.open(id);\n",
              "      // Send a message to notify the kernel that we're ready.\n",
              "      channel.send({})\n",
              "\n",
              "      for await (const message of channel.messages) {\n",
              "        // Send a message to notify the kernel that we're ready.\n",
              "        channel.send({})\n",
              "        if (message.buffers) {\n",
              "          for (const buffer of message.buffers) {\n",
              "            buffers.push(buffer);\n",
              "            downloaded += buffer.byteLength;\n",
              "            progress.value = downloaded;\n",
              "          }\n",
              "        }\n",
              "      }\n",
              "      const blob = new Blob(buffers, {type: 'application/binary'});\n",
              "      const a = document.createElement('a');\n",
              "      a.href = window.URL.createObjectURL(blob);\n",
              "      a.download = filename;\n",
              "      div.appendChild(a);\n",
              "      a.click();\n",
              "      div.remove();\n",
              "    }\n",
              "  "
            ],
            "text/plain": [
              "<IPython.core.display.Javascript object>"
            ]
          },
          "metadata": {
            "tags": []
          }
        },
        {
          "output_type": "display_data",
          "data": {
            "application/javascript": [
              "download(\"download_c704fbeb-b5ed-448b-aa25-6ac5f226b865\", \"file.zip\", 6675588)"
            ],
            "text/plain": [
              "<IPython.core.display.Javascript object>"
            ]
          },
          "metadata": {
            "tags": []
          }
        }
      ]
    },
    {
      "cell_type": "code",
      "metadata": {
        "id": "Ps3UyoI9G0xf"
      },
      "source": [
        ""
      ],
      "execution_count": null,
      "outputs": []
    }
  ]
}