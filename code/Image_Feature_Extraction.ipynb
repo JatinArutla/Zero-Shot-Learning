{
  "nbformat": 4,
  "nbformat_minor": 0,
  "metadata": {
    "colab": {
      "provenance": []
    },
    "kernelspec": {
      "name": "python3",
      "display_name": "Python 3"
    },
    "language_info": {
      "name": "python"
    }
  },
  "cells": [
    {
      "cell_type": "code",
      "metadata": {
        "id": "iwAZtjlnKJA-"
      },
      "source": [
        "from google.colab import drive\n",
        "\n",
        "drive.mount('/content/gdrive')"
      ],
      "execution_count": null,
      "outputs": []
    },
    {
      "cell_type": "code",
      "metadata": {
        "id": "Jep8qRH4LCzB"
      },
      "source": [
        "import keras\n",
        "from keras import backend as K\n",
        "from keras.preprocessing import image\n",
        "from keras.models import Model\n",
        "\n",
        "import tensorflow as tf\n",
        "import numpy as np\n",
        "import os\n",
        "os.environ['TF_CPP_MIN_LOG_LEVEL'] = '2'\n",
        "from keras.layers.convolutional import Conv2D, MaxPooling2D\n",
        "from keras import Sequential\n",
        "from keras.layers import Dense, Activation, Flatten\n",
        "\n",
        "import numpy as np\n",
        "np.random.seed(123)\n",
        "import gzip\n",
        "import _pickle as cPickle\n",
        "import os\n",
        "from collections import Counter\n",
        "\n",
        "from sklearn.preprocessing import LabelEncoder, normalize\n",
        "from sklearn.neighbors import KDTree\n",
        "\n",
        "from keras.models import Sequential, Model, model_from_json\n",
        "from keras.layers import Dense, Dropout\n",
        "from keras.layers import BatchNormalization\n",
        "from tensorflow.keras.optimizers import Adam\n",
        "from tensorflow.keras.utils import to_categorical"
      ],
      "execution_count": null,
      "outputs": []
    },
    {
      "cell_type": "code",
      "metadata": {
        "id": "DipubPNFKoPR"
      },
      "source": [
        "def get_mod():\n",
        "    vgg_mod = tf.keras.applications.VGG16(include_top=True, weights='imagenet')\n",
        "    # vgg_mod = keras.applications.VGG16(include_top=True, weights='imagenet', input_shape = [128,128,3])\n",
        "    # vgg_mod.layers.pop()\n",
        "    # vgg_mod.layers.pop()\n",
        "\n",
        "    inp = vgg_mod.input\n",
        "    out = vgg_mod.layers[-3].output\n",
        "\n",
        "    # preds = Dense(4096, activation='softmax')(out)\n",
        "    model = Model(inp, out)\n",
        "\n",
        "    return model\n",
        "\n",
        "def get_feat(model, cropped_image):\n",
        "    y = image.img_to_array(cropped_image)\n",
        "    y = np.expand_dims(y, axis=0)\n",
        "    y = keras.applications.vgg16.preprocess_input(y)\n",
        "    feat = model.predict(y)\n",
        "    return feat"
      ],
      "execution_count": null,
      "outputs": []
    },
    {
      "cell_type": "code",
      "metadata": {
        "id": "zrocEaozKzgt"
      },
      "source": [
        "vgg_mod = get_mod()"
      ],
      "execution_count": null,
      "outputs": []
    },
    {
      "cell_type": "code",
      "metadata": {
        "id": "h000EaY0K8wh"
      },
      "source": [
        "from PIL import Image\n",
        "import glob\n",
        "from numpy import array as narray\n",
        "import pickle\n",
        "\n",
        "loc = ['hamburger', 'caesar_salad', 'caprese_salad', 'carrot_cake', 'chicken', 'chocolate_cake', 'cup_cakes',\n",
        "             'donuts', 'greek_salad', 'naan', 'paneer', 'roti', 'vegetable']\n",
        "names = ['Burger', 'Caesar Salad', 'Caprese Salad', 'Carrot Cake', 'Butter Chicken', 'Chocolate Cake', 'Cup Cake',\n",
        "         'Donut', 'Greek Salad', 'Naan', 'Paneer Butter Masala', 'Roti', 'Mixed Vegetable Curry']\n",
        "for k in range(len(loc)):\n",
        "    fname = glob.glob(f\"/content/gdrive/MyDrive/400 pic Dataset/{loc[k]}/*jpg\")\n",
        "    fname.sort()\n",
        "\n",
        "    l = []\n",
        "    a = []\n",
        "    c = 0\n",
        "    for i in fname:\n",
        "      IMAGEPATH = i\n",
        "      img = Image.open(IMAGEPATH).resize((224, 224))\n",
        "      img_feature = get_feat(vgg_mod, img)\n",
        "      img_feature = normalize(img_feature, norm='l2')\n",
        "\n",
        "      a.append(img_feature)\n",
        "      a.insert(c, names[k])\n",
        "      c+=2\n",
        "\n",
        "    b = []\n",
        "    j = 1\n",
        "    c = []\n",
        "    for i in range(0, len(a), 2):\n",
        "      b.append(a[i])\n",
        "      b.append(a[i+j])\n",
        "      c.append(b)\n",
        "      b = []\n",
        "    if names[k] == 'Burger':\n",
        "      d = []\n",
        "    for i in range(0, len(c)):\n",
        "      d.append(tuple(c[i]))\n",
        "\n",
        "f_name = \"final.pkl\"\n",
        "\n",
        "open_file = open(f_name, \"wb\")\n",
        "pickle.dump(d, open_file)\n",
        "open_file.close()"
      ],
      "execution_count": null,
      "outputs": []
    },
    {
      "cell_type": "code",
      "source": [],
      "metadata": {
        "id": "m82ozjdtiElB"
      },
      "execution_count": null,
      "outputs": []
    }
  ]
}